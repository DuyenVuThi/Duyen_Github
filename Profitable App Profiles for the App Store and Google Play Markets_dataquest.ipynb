{
 "cells": [
  {
   "cell_type": "markdown",
   "id": "941298f8",
   "metadata": {},
   "source": [
    "## Target: \n",
    "* Help developers understand what type of apps are likely to attract more users on Google Play and the App Store.\n",
    "* object: apps that are free to download and install, and our main source of revenue consists of in-app ads. This means that the number of users of our apps determines our revenue for any given app.\n",
    "\n",
    "## Dataset:\n",
    "* A dataset containing data about approximately 10,000 Android apps from Google Play; the data was collected in August 2018. \n",
    "* A dataset containing data about approximately 7,000 iOS apps from the App Store; the data was collected in July 2017.\n",
    "* Source [link](https://www.kaggle.com/lava18/google-play-store-apps), [link](https://www.kaggle.com/ramamet4/app-store-apple-data-set-10k-apps)"
   ]
  },
  {
   "cell_type": "code",
   "execution_count": 1,
   "id": "6c23f51a",
   "metadata": {
    "scrolled": false
   },
   "outputs": [],
   "source": [
    "def open_file(dataset):\n",
    "    file= open(dataset,encoding='utf8')\n",
    "    from csv import reader\n",
    "    read_file=reader(file)\n",
    "    return list(read_file)\n",
    "\n",
    "ios_header=open_file('C:/Users/Admin/Duyen/AppleStore.csv')\n",
    "ios=ios_header[1:]\n",
    "androi_header=open_file('C:/Users/Admin/Duyen/googleplaystore.csv')\n",
    "androi=androi_header[1:]\n"
   ]
  },
  {
   "cell_type": "markdown",
   "id": "bb10e667",
   "metadata": {},
   "source": [
    "### opening and exploring these two data sets "
   ]
  },
  {
   "cell_type": "code",
   "execution_count": 2,
   "id": "f37cca6a",
   "metadata": {
    "scrolled": true
   },
   "outputs": [
    {
     "name": "stdout",
     "output_type": "stream",
     "text": [
      "['id', 'track_name', 'size_bytes', 'currency', 'price', 'rating_count_tot', 'rating_count_ver', 'user_rating', 'user_rating_ver', 'ver', 'cont_rating', 'prime_genre', 'sup_devices.num', 'ipadSc_urls.num', 'lang.num', 'vpp_lic']\n",
      "\n",
      "\n",
      "['284882215', 'Facebook', '389879808', 'USD', '0.0', '2974676', '212', '3.5', '3.5', '95.0', '4+', 'Social Networking', '37', '1', '29', '1']\n",
      "\n",
      "\n",
      "number of row: 7198\n",
      "number of column: 16\n",
      "None\n",
      "['App', 'Category', 'Rating', 'Reviews', 'Size', 'Installs', 'Type', 'Price', 'Content Rating', 'Genres', 'Last Updated', 'Current Ver', 'Android Ver']\n",
      "\n",
      "\n",
      "['Photo Editor & Candy Camera & Grid & ScrapBook', 'ART_AND_DESIGN', '4.1', '159', '19M', '10,000+', 'Free', '0', 'Everyone', 'Art & Design', 'January 7, 2018', '1.0.0', '4.0.3 and up']\n",
      "\n",
      "\n",
      "number of row: 10842\n",
      "number of column: 13\n",
      "None\n"
     ]
    }
   ],
   "source": [
    "def explore_data(dataset, start, end, row_columns=True):\n",
    "    dataset_slice=dataset[start:end]\n",
    "    for row in dataset_slice: # instead of print dataset_slice, print row with line space help easier to look at\n",
    "        print(row)\n",
    "        print('\\n') # adds a new (empty) line after each row\n",
    "\n",
    "    \n",
    "    if row_columns:\n",
    "        print('number of row:', len(dataset))\n",
    "        print('number of column:',len(dataset[0]))\n",
    "\n",
    "print(explore_data(ios_header,0,2,True))\n",
    "print(explore_data(androi_header,0,2,True))"
   ]
  },
  {
   "cell_type": "markdown",
   "id": "517bd0b2",
   "metadata": {},
   "source": [
    "## Clean data\n",
    "we only build apps that are free to download and install, and we design them for an English-speaking audience. This means that we'll need to do the following:\n",
    "\n",
    "* Remove non-English apps like 爱奇艺PPS -《欢乐颂2》电视剧热播.\n",
    "\n",
    "Find if any row's rate is greater than 5"
   ]
  },
  {
   "cell_type": "code",
   "execution_count": 3,
   "id": "b8b53f35",
   "metadata": {},
   "outputs": [
    {
     "data": {
      "text/plain": [
       "['Life Made WI-Fi Touchscreen Photo Frame']"
      ]
     },
     "execution_count": 3,
     "metadata": {},
     "output_type": "execute_result"
    }
   ],
   "source": [
    "def rate_greater_than_5(dataset,index_rate,index_name):\n",
    "    list_name=[]   \n",
    "    for row in dataset:\n",
    "        rate=float(row[index_rate])\n",
    "        name=row[index_name]\n",
    "        if rate>5:\n",
    "            list_name.append(name)\n",
    "    return(list_name)\n",
    "\n",
    "rate_greater_than_5(ios,7,1)\n",
    "rate_greater_than_5(androi,2,0)\n",
    "        \n",
    "    "
   ]
  },
  {
   "cell_type": "code",
   "execution_count": 4,
   "id": "43c21725",
   "metadata": {},
   "outputs": [
    {
     "name": "stdout",
     "output_type": "stream",
     "text": [
      "['Life Made WI-Fi Touchscreen Photo Frame', '1.9', '19', '3.0M', '1,000+', 'Free', '0', 'Everyone', '', 'February 11, 2018', '1.0.19', '4.0 and up']\n"
     ]
    }
   ],
   "source": [
    "print(androi[10472])"
   ]
  },
  {
   "cell_type": "markdown",
   "id": "baa657e5",
   "metadata": {},
   "source": [
    "The rating is 19. This is clearly off because the maximum rating for a Google Play app is 5=> delete row"
   ]
  },
  {
   "cell_type": "code",
   "execution_count": 5,
   "id": "4d3e9f62",
   "metadata": {},
   "outputs": [
    {
     "name": "stdout",
     "output_type": "stream",
     "text": [
      "10841\n",
      "10840\n"
     ]
    }
   ],
   "source": [
    "print(len(androi))\n",
    "del androi[10472]\n",
    "print(len(androi))"
   ]
  },
  {
   "cell_type": "markdown",
   "id": "dcdeac54",
   "metadata": {},
   "source": [
    "## Find duplicate app"
   ]
  },
  {
   "cell_type": "code",
   "execution_count": 6,
   "id": "0056a65f",
   "metadata": {},
   "outputs": [
    {
     "name": "stdout",
     "output_type": "stream",
     "text": [
      "number of duplicate ios: 0\n",
      "number of duplicate ios: 1181\n",
      "{}\n",
      "{'Quick PDF Scanner + OCR FREE': 2, 'Box': 2, 'Google My Business': 2, 'ZOOM Cloud Meetings': 1, 'join.me - Simple Meetings': 2, 'Zenefits': 1, 'Google Ads': 2, 'Slack': 2, 'FreshBooks Classic': 1, 'Insightly CRM': 1, 'QuickBooks Accounting: Invoicing & Expenses': 2, 'HipChat - Chat Built for Teams': 1, 'Xero Accounting Software': 1, 'MailChimp - Email, Marketing Automation': 1, 'Crew - Free Messaging and Scheduling': 1, 'Asana: organize team projects': 1, 'Google Analytics': 1, 'AdWords Express': 1, 'Accounting App - Zoho Books': 1, 'Invoice & Time Tracking - Zoho': 1, 'Invoice 2go — Professional Invoices and Estimates': 1, 'SignEasy | Sign and Fill PDF and other Documents': 1, 'Genius Scan - PDF Scanner': 1, 'Tiny Scanner - PDF Scanner App': 1, 'Fast Scanner : Free PDF Scan': 1, 'Mobile Doc Scanner (MDScan) Lite': 1, 'TurboScan: scan documents and receipts in PDF': 1, 'Tiny Scanner Pro: PDF Doc Scan': 1, 'Docs To Go™ Free Office Suite': 1, 'OfficeSuite : Free Office + PDF Editor': 1, 'WhatsApp Messenger': 2, 'Messenger – Text and Video Chat for Free': 2, 'imo free video calls and chat': 3, 'Viber Messenger': 4, 'Hangouts': 3, 'WeChat': 3, 'Telegram': 2, 'Who': 1, 'Google Voice': 2, 'Android Messages': 1, 'Firefox Focus: The privacy browser': 2, 'Google Allo': 2, 'Google Chrome: Fast & Secure': 2, 'Firefox Browser fast & private': 2, 'Puffin Web Browser': 2, 'Opera Browser: Fast and Secure': 2, 'Opera Mini - fast web browser': 2, 'UC Browser Mini -Tiny Fast Private & Secure': 2, 'UC Browser - Fast Download Private & Secure': 2, 'Calls & Text by Mo+': 1, 'Call Blocker': 1, 'Gmail': 2, 'Yahoo Mail – Stay Organized': 2, 'free video calls and chat': 2, 'Skype - free IM & video calls': 2, 'Glide - Video Chat Messenger': 1, 'Talkray - Free Calls & Texts': 1, 'LINE: Free Calls & Messages': 2, 'KakaoTalk: Free Calls & Text': 2, 'OkCupid Dating': 2, 'CMB Free Dating App': 1, 'Hily: Dating, Chat, Match, Meet & Hook up': 2, 'Hinge: Dating & Relationships': 1, 'BBW Dating & Plus Size Chat': 2, 'Casual Dating & Adult Singles - Joyride': 1, 'EliteSingles – Dating for Single Professionals': 1, 'Clover Dating App': 1, 'Moco - Chat, Meet People': 2, 'Hot or Not - Find someone right now': 2, 'Just She - Top Lesbian Dating': 2, 'Once - Quality Matches Every day': 1, 'Sudy – Meet Elite & Rich Single': 1, 'muzmatch: Muslim & Arab Singles, Marriage & Dating': 2, 'Chispa, the Dating App for Latino, Latina Singles': 1, 'Blendr - Chat, Flirt & Meet': 1, 'Find Real Love — YouLove Premium Dating': 1, 'Cougar Dating Life : Date Older Women Sugar Mummy': 1, 'stranger chat - anonymous chat': 1, 'Millionaire Match: Rich Singles Dating App': 1, 'Dating for 50 plus Mature Singles – FINALLY': 1, 'Moco+ - Chat, Meet People': 1, 'Chat Rooms, Avatars, Date - Galaxy': 1, 'FastMeet: Chat, Dating, Love': 1, 'Christian Dating For Free App': 1, 'Meet24 - Love, Chat, Singles': 1, 'Black White Interracial Dating - Interracial Match': 1, 'Gay Sugar Daddy Dating & Hookup – Sudy Gay': 1, 'Adult Dirty Emojis': 2, 'Hide App, Private Dating, Safe Chat - PrivacyHider': 1, 'Meet4U - Chat, Love, Singles!': 1, '95Live -SG#1 Live Streaming App': 1, 'O-Star': 2, 'Random Video Chat': 1, 'Black People Meet Singles Date': 1, 'Howlr': 1, 'Free Dating & Flirt Chat - Choice of Love': 1, 'Cardi B Live Stream Video Chat - Prank': 1, 'Chat Kids - Chat Room For Kids': 1, 'Transenger – Ts Dating and Chat for Free': 1, 'BBW Dating & Curvy Singles Chat- LargeFriends': 1, 'MouseMingle': 1, 'FlirtChat - ♥Free Dating/Flirting App♥': 1, 'Live Talk - Free Text and Video Chat': 1, 'Free Cam Girls - Live Webcam': 1, 'Random Video Chat App With Strangers': 1, 'Live Girls Talk - Free Video Chat': 1, 'Girls Live Chat - Free Text & Video Chat': 1, 'Free Dating App - Meet Local Singles - Flirt Chat': 1, 'iPair-Meet, Chat, Dating': 1, 'Free Dating Hook Up Messenger': 1, 'Free Dating App - YoCutie - Flirt, Chat & Meet': 1, 'Khan Academy': 2, 'TED': 3, 'Lumosity: #1 Brain Games & Cognitive Training App': 1, 'Udemy - Online Courses': 2, 'Duolingo: Learn Languages Free': 6, 'Quizlet: Learn Languages & Vocab with Flashcards': 3, 'Coursera: Online courses': 1, 'Udacity - Lifelong Learning': 1, 'edX - Online Courses by Harvard, MIT & more': 1, 'Lynda - Online Training Videos': 1, 'Learn languages, grammar & vocabulary with Memrise': 3, 'Brilliant': 1, 'Babbel – Learn Languages': 3, 'Rosetta Stone: Learn to Speak & Read New Languages': 3, 'Learn English with Wlingua': 1, 'Google Classroom': 2, 'Learn 50 languages': 1, 'Mango Languages: Lovable Language Courses': 1, 'busuu: Learn Languages - Spanish, English & More': 3, 'My Class Schedule: Timetable': 1, 'Socratic - Math Answers & Homework Help': 1, 'ClassDojo': 2, 'HelloTalk — Chat, Speak & Learn Foreign Languages': 1, 'Movies by Flixster, with Rotten Tomatoes': 2, 'IMDb Movies & TV': 2, 'Netflix': 4, 'Tubi TV - Free Movies & TV': 2, 'Crunchyroll - Everything Anime': 2, 'STARZ': 2, 'Crackle - Free TV & Movies': 2, 'CBS - Full Episodes & Live TV': 1, 'Nick': 5, 'Hulu: Stream TV, Movies & more': 3, 'FOX NOW - On Demand & Live TV': 2, 'The CW': 3, 'HISTORY: Watch TV Show Full Episodes & Specials': 2, 'HBO NOW: Stream TV & Movies': 3, 'A&E - Watch Full Episodes of TV Shows': 3, 'VH1': 2, 'Lifetime - Watch Full Episodes & Original Movies': 2, 'BET NOW - Watch Shows': 2, 'Food Network': 2, 'Viki: Asian TV Dramas & Movies': 2, 'Univision NOW - Live TV and On Demand': 1, 'SHOWTIME': 1, 'MTV': 1, 'Comedy Central': 1, 'FOX': 1, 'Telemundo Now': 1, 'Fandango Movies - Times + Tickets': 1, 'Google Pay': 3, 'Wells Fargo Daily Change': 1, 'Credit Karma': 2, 'Robinhood - Investing, No Fees': 1, 'Digit Save Money Automatically': 1, 'Acorns - Invest Spare Change': 1, 'Money Lover: Expense Tracker, Budget Planner': 1, 'Mint: Budget, Bills, Finance': 2, 'Simple - Better Banking': 1, 'PayPal': 1, 'Wells Fargo Mobile': 1, 'Capital One® Mobile': 1, 'Grubhub: Food Delivery': 1, 'Postmates Food Delivery: Order Eats & Alcohol': 1, \"Domino's Pizza USA\": 1, 'Chick-fil-A': 2, 'Zomato - Restaurant Finder and Food Delivery App': 1, 'Run with Map My Run': 2, 'Weight Loss Running by Verv': 2, 'Nike+ Run Club': 3, 'Runtastic Running App & Mile Tracker': 2, '8fit Workouts & Meal Planner': 1, 'Daily Yoga - Yoga Fitness Plans': 2, 'Pocket Yoga': 1, 'Calorie Counter - MyFitnessPal': 4, 'Seven - 7 Minute Workout Training Challenge': 1, 'Weight Watchers Mobile': 2, 'Walk with Map My Walk': 1, 'Workout Trainer: fitness coach': 1, 'Nike Training Club - Workouts & Fitness Plans': 2, 'Fitbit Coach': 1, 'Endomondo - Running & Walking': 1, 'Runkeeper - GPS Track Run Walk': 1, 'Lose It! - Calorie Counter': 2, 'Calorie Counter - MyNetDiary': 1, '10 Best Foods for You': 1, 'MyPlate Calorie Tracker': 1, 'Weight Loss Tracker - RecStyle': 1, 'Calorie Counter by FatSecret': 1, 'Calorie Counter - Macros': 1, 'My Diet Diary Calorie Counter': 1, 'Lark - 24/7 Health Coach': 1, 'Calorie Counter & Diet Tracker': 1, 'MealLogger-Photo Food Journal': 1, 'Health and Nutrition Guide': 1, 'Food Calorie Calculator': 1, 'Relax Meditation: Sleep with Sleep Sounds': 1, 'Meditation Music - Relax, Yoga': 1, '21-Day Meditation Experience': 1, 'Fabulous: Motivate Me! Meditate, Relax, Sleep': 1, 'Calm - Meditate, Sleep, Relax': 1, 'Relax Melodies: Sleep Sounds': 1, 'Simple Habit Meditation': 1, 'Headspace: Meditation & Mindfulness': 1, 'Houzz Interior Design Ideas': 3, 'Mortgage by Zillow: Calculator & Rates': 1, 'Redfin Real Estate': 1, 'Apartment List: Housing, Apt, and Property Rentals': 1, 'Realtor.com Real Estate: Homes for Sale and Rent': 1, 'Trulia Real Estate & Rentals': 1, 'Zillow: Find Houses for Sale & Apartments for Rent': 1, 'Apartments & Rentals - Zillow': 1, 'Trulia Rent Apartments & Homes': 1, 'Apartments.com Rental Search': 1, 'Vaniday - Beauty Booking App': 1, 'StyleSeat': 1, 'JOANN - Crafts & Coupons': 1, 'Fashion in Vogue': 2, 'Wheretoget: Shop in style': 1, 'My Dressing - Fashion closet': 1, 'Chictopia': 1, 'Scarf Fashion Designer': 1, 'Zara': 1, 'Subway Surfers': 5, 'ROBLOX': 8, 'Pou': 3, '8 Ball Pool': 6, 'Clash of Clans': 3, 'Candy Crush Saga': 6, 'Plants vs. Zombies FREE': 4, 'My Talking Angela': 3, 'Bubble Shooter': 5, 'Word Search': 3, 'Candy Crush Soda Saga': 2, 'Fishdom': 2, 'Block Puzzle': 3, 'Clash Royale': 3, 'Sniper 3D Gun Shooter: Free Shooting Games - FPS': 5, 'Granny': 4, 'Galaxy Attack: Alien Shooter': 2, 'Angry Birds Rio': 3, 'Zombie Catchers': 5, 'Zombie Hunter King': 3, 'Temple Run 2': 5, 'Zombie Tsunami': 4, 'Farm Heroes Saga': 4, 'Super Jim Jump - pixel 3d': 2, 'slither.io': 5, 'Angry Birds Classic': 4, 'Flow Free': 4, 'Helix Jump': 5, 'Toon Blast': 2, 'Kick the Buddy': 3, 'Magic Tiles 3': 3, 'Bowmasters': 5, 'Wordscapes': 3, 'Block Craft 3D: Building Simulator Games For Free': 2, 'PUBG MOBILE': 3, 'DRAGON BALL LEGENDS': 3, 'Harry Potter: Hogwarts Mystery': 1, 'MARVEL Strike Force': 2, 'Merge Dragons!': 1, 'Honkai Impact 3rd': 1, 'Toy Blast': 1, 'Homescapes': 1, 'Cooking Fever': 1, 'Gardenscapes': 1, 'Score! Hero': 2, 'Dream League Soccer 2018': 2, 'Fruits Bomb': 1, 'Talking Tom Gold Run': 3, 'My Talking Tom': 2, 'Hill Climb Racing': 3, 'Pixel Art: Color by Number Game': 2, 'Rider': 1, 'Garena Free Fire': 3, 'Miraculous Ladybug & Cat Noir - The Official Game': 2, 'Solitaire': 2, 'Traffic Racer': 1, 'Earn to Die 2': 1, 'Bubble Shooter 2': 1, 'Candy Crush Jelly Saga': 1, 'Cut the Rope FULL FREE': 2, 'Jewels Star: OZ adventure': 1, 'Hungry Shark Evolution': 2, 'Best Fiends - Free Puzzle Game': 1, 'Hill Climb Racing 2': 1, 'Swamp Attack': 1, 'Block Puzzle Classic Legend !': 1, 'DEAD TARGET: FPS Zombie Apocalypse Survival Games': 1, 'YouTube Kids': 3, 'Candy Bomb': 1, 'Princess Coloring Book': 1, 'Hello Kitty Nail Salon': 1, 'Dog Run - Pet Dog Simulator': 2, 'Coloring book moana': 1, 'Barbie™ Fashion Closet': 1, 'Minion Rush: Despicable Me Official Game': 3, 'No.Draw - Colors by Number 2018': 1, 'Super ABC! Learning games for kids! Preschool apps': 1, 'PJ Masks: Moonlight Heroes': 2, 'Hot Wheels: Race Off': 1, 'Farming Simulator 14': 1, 'Mcqueen Coloring pages': 1, 'Monster Truck Driver & Racing': 1, 'Strawberry Shortcake BerryRush': 2, 'DC Super Hero Girls™': 3, 'Toca Kitchen 2': 2, 'Disney Magic Kingdoms: Build Your Own Magical Park': 1, 'Toca Life: City': 1, 'Papumba Academy - Fun Learning For Kids': 2, 'Kids Balloon Pop Game Free 🎈': 1, 'Sounds for Toddlers FREE': 1, 'Elmo Calls by Sesame Street': 2, 'Sago Mini Friends': 2, 'Tee and Mo Bath Time Free': 1, 'Bita and the Animals - Pelos Ares': 1, 'TO-FU Oh!SUSHI': 1, 'DreamWorks Friends': 1, 'Avokiddo Emotions': 1, 'Nighty Night Circus': 1, 'Sago Mini Babies': 1, \"Dr. Panda & Toto's Treehouse\": 2, 'PlayKids - Educational cartoons and games for kids': 1, 'Baby Panda Care': 1, 'Monster High™': 1, 'Shopkins World!': 1, 'DisneyNOW – TV Shows & Games': 2, 'Equestria Girls': 2, 'Frozen Free Fall': 2, 'Thomas & Friends: Race On!': 1, 'Inside Out Thought Bubbles': 1, 'School of Dragons': 1, 'Peak – Brain Games & Training': 1, 'Period Tracker': 1, 'Vargo Anesthesia Mega App': 1, 'Monash Uni Low FODMAP Diet': 1, 'mySugr: the blood sugar tracker made just for you': 2, 'Human Anatomy Atlas 2018: Complete 3D Human Body': 2, 'ASCCP Mobile': 1, 'Paramedic Protocol Provider': 1, '2017 EMRA Antibiotic Guide': 1, 'Essential Anatomy 3': 1, 'EMT PASS': 1, 'Block Buddy': 1, 'EMT Review Plus': 1, 'Journal Club: Medicine': 1, 'Pedi STAT': 1, 'AnatomyMapp': 1, 'Diabetes & Diet Tracker': 1, 'A Manual of Acupuncture': 1, 'PTA Content Master': 1, 'Muscle Premium - Human Anatomy, Kinesiology, Bones': 1, 'Cardiac diagnosis (heart rate, arrhythmia)': 2, 'Medical ID - In Case of Emergency (ICE)': 1, 'IBM Micromedex Drug Info': 1, 'Advanced Comprehension Therapy': 1, 'Hospitalist Handbook': 1, 'Teladoc Member': 1, 'Ada - Your Health Guide': 1, 'Ovia Fertility Tracker & Ovulation Calculator': 1, 'Youper - AI Therapy': 2, 'MoodSpace': 1, 'Super Hearing Super Ear Amplifier': 1, 'Penn State Health OnDemand': 1, 'ScriptSave WellRx Rx Discounts': 1, 'Free Blood Pressure': 2, 'All Mental disorders': 1, 'Nurse Grid': 1, 'JH Blood Pressure Monitor': 1, 'Blood Pressure': 2, 'RT 516 VET': 1, 'Anthem Anywhere': 1, 'Sway Medical': 1, \"fred's Pharmacy\": 1, 'Breastfeeding Tracker Baby Log': 1, 'Banfield Pet Health Tracker': 1, '1800 Contacts - Lens Store': 1, 'TextNow - free text + calls': 1, 'Tumblr': 2, 'Snapchat': 3, 'Instagram': 3, 'Periscope - Live Video': 2, 'Pinterest': 2, 'MeetMe: Chat & Meet New People': 4, 'ooVoo Video Calls, Messaging & Stories': 1, 'LinkedIn': 1, 'Tango - Live Video Broadcast': 1, 'SayHi Chat, Meet New People': 2, 'Tapatalk - 100,000+ Forums': 1, 'Badoo - Free Chat & Dating App': 3, 'Nextdoor - Local neighborhood news & classifieds': 1, 'Meetup': 3, 'Text Free: WiFi Calling App': 2, 'textPlus: Free Text & Calls': 1, 'POF Free Dating App': 2, 'Tagged - Meet, Chat & Dating': 1, 'LOVOO': 1, 'SKOUT - Meet, Chat, Go Live': 1, 'Jaumo Dating, Flirt & Live Video': 1, 'Couple - Relationship App': 1, 'Wish - Shopping Made Fun': 4, 'SnipSnap Coupon App': 1, 'Extreme Coupon Finder': 2, 'Checkout 51: Grocery coupons': 2, 'The Coupons App': 3, 'RetailMeNot - Coupons, Deals & Discount Shopping': 2, 'Groupon - Shop Deals, Discounts & Coupons': 3, 'Stocard - Rewards Cards Wallet': 1, 'eBay: Buy & Sell this Summer - Discover Deals Now!': 4, 'Gyft - Mobile Gift Card Wallet': 2, 'Shopkick: Free Gift Cards, Shop Rewards & Deals': 1, 'Shopular: Coupons, Weekly Ads & Shopping Deals': 1, 'Carousell: Snap-Sell, Chat-Buy': 1, 'Walmart': 1, 'Ibotta: Cash Back Savings, Rewards & Coupons App': 1, 'AliExpress - Smarter Shopping, Better Living': 3, 'LivingSocial - Local Deals': 2, 'Amazon Shopping': 2, 'Poshmark - Buy & Sell Fashion': 1, 'Target - now with Cartwheel': 2, 'ZALORA Fashion Shopping': 1, 'Fancy': 2, \"Modcloth – Unique Indie Women's Fashion & Style\": 1, \"JackThreads: Men's Shopping\": 2, 'Zappos – Shoe shopping made simple': 1, 'Wanelo Shopping': 1, 'Etsy: Handmade & Vintage Goods': 1, 'Slickdeals: Coupons & Shopping': 2, 'ASOS': 1, 'Google Photos': 3, 'Shutterfly: Free Prints, Photo Books, Cards, Gifts': 3, 'InstaBeauty -Makeup Selfie Cam': 1, 'B612 - Beauty & Filter Camera': 2, 'BeautyPlus - Easy Photo Editor & Selfie Camera': 4, 'YouCam Perfect - Selfie Photo Editor': 2, 'Muzy - Share photos & collages': 1, 'QuickPic - Photo Gallery with Google Drive Support': 2, 'Flickr': 1, 'Open Camera': 2, 'Camera for Android': 2, 'Cymera Camera- Photo Editor, Filter,Collage,Layout': 3, 'Candy Camera - selfie, beauty camera, photo editor': 2, 'Camera360: Selfie Photo Editor with Funny Sticker': 2, 'Facetune - For Free': 2, 'Photo Editor Selfie Camera Filter & Mirror Image': 1, 'HD Camera for Android': 1, 'Photo Editor Pro': 1, 'YouCam Makeup - Magic Selfie Makeovers': 1, 'Photo Editor-': 1, 'Photo Editor': 1, 'Adobe Photoshop Express:Photo Editor Collage Maker': 1, 'InstaSize Photo Filters & Collage Editor': 1, 'CBS Sports App - Scores, News, Stats & Watch Live': 7, 'Yahoo Fantasy Sports - #1 Rated Fantasy App': 4, 'ESPN': 6, 'NFL': 2, 'Bleacher Report: sports news, scores, & highlights': 5, 'ESPN Fantasy Sports': 3, 'theScore: Live Sports Scores, News, Stats & Videos': 4, 'MLB At Bat': 4, 'WatchESPN': 3, 'Hole19: Golf GPS App, Rangefinder & Scorecard': 1, 'CBS Sports Fantasy': 1, 'Yahoo Sports - scores, stats, news, & highlights': 2, 'FotMob - Live Soccer Scores': 1, 'US Open Tennis Championships 2018': 1, 'FIFA - Tournaments, Soccer News & Live Scores': 1, 'Golfshot: Golf GPS + Tee Times': 1, 'BBC Sport': 1, 'MLB Ballpark': 1, 'FOX Sports: Live Streaming, Scores & News': 1, 'Fantasy Football': 1, 'PGA TOUR': 1, 'UFC': 1, 'trivago: Hotels & Travel': 2, 'Expedia Hotels, Flights & Car Rental Travel Deals': 3, 'TripAdvisor Hotels Flights Restaurants Attractions': 4, 'Skyscanner': 4, 'Booking.com Travel Deals': 2, 'Priceline Hotel Deals, Rental Cars & Flights': 2, 'United Airlines': 1, 'Southwest Airlines': 1, 'Hopper - Watch & Book Flights': 1, 'Fly Delta': 1, 'KAYAK Flights, Hotels & Cars': 2, 'American Airlines': 2, 'Orbitz - Hotels, Flights & Package Deals': 1, 'Hotels.com: Book Hotel Rooms & Find Vacation Deals': 1, 'Hostelworld: Hostels & Cheap Hotels Travel App': 1, 'Airbnb': 1, 'HotelTonight: Book amazing deals at great hotels': 2, 'Maps - Navigate & Explore': 2, 'Google Street View': 1, 'Calculator': 1, 'Gboard - the Google Keyboard': 2, 'ZEDGE™ Ringtones & Wallpapers': 3, 'Nova Launcher': 1, 'Apex Launcher': 2, 'Smart Launcher 5': 1, 'Google Keep': 3, 'Evernote – Organizer, Planner for Notes & Memos': 3, 'ES File Explorer File Manager': 2, 'Microsoft Word': 2, 'Google Drive': 3, 'Adobe Acrobat Reader': 2, 'Google PDF Viewer': 2, 'Microsoft Excel': 1, 'Google Docs': 2, 'Microsoft PowerPoint': 1, 'Microsoft OneNote': 2, 'Google Calendar': 2, 'Wunderlist: To-Do List & Tasks': 2, 'Any.do: To-do list, Calendar, Reminders & Planner': 2, 'Todoist: To-do lists for task management & errands': 2, 'Planner Pro-Personal Organizer': 1, 'Microsoft OneDrive': 1, 'Dropbox': 2, 'MX Player': 2, 'Video Editor': 2, 'Google News': 3, 'Flipboard: News For Our Time': 2, 'BBC News': 2, 'Fox News – Breaking News, Live Video & News Alerts': 2, 'USA TODAY': 2, 'CNN Breaking US & World News': 2, 'Twitter': 2, 'NPR News': 1, 'Haystack TV: Local & World News - Free': 1, 'ABC News - US & World News': 1, 'NBC News': 1, 'The Wall Street Journal: Business & Market News': 1, 'NYTimes - Latest News': 2, 'Newsroom: News Worth Sharing': 1, 'BuzzFeed: News, Tasty, Quizzes': 1, 'Flashlight': 1, 'Agar.io': 1, 'LEGO® Juniors Create & Cruise': 1, 'Google Translate': 1, 'Pokémon GO': 1, 'PAC-MAN': 1, 'Colorfy: Coloring Book for Adults - Free': 1, 'YouTube': 1, \"Alto's Adventure\": 1, 'Facebook': 1, 'VPN Free - Betternet Hotspot VPN & Private Browser': 1, 'EMT Tutor NREMT-B Study Guide': 1, 'EMT-B Pocket Prep': 1, 'Diary with lock': 1, 'C Programming': 1, 'CppDroid - C/C++ IDE': 1, 'Learn C++': 1, 'Google Duo - High Quality Video Calls': 1, 'Crossy Road': 1, 'E*TRADE Mobile': 1, 'WWE': 1, 'Amazon Kindle': 1, 'Microsoft Edge': 1, 'Microsoft Outlook': 1, 'Ebook Reader': 1, 'Flipkart Online Shopping App': 1, 'Facebook Lite': 1, 'Messenger Lite: Free Calls & Messages': 1, 'imo beta free calls and text': 1, 'Geometry Dash World': 1, 'Google+': 1, 'Google': 1, 'G Cloud Backup': 1, 'H&M': 1, 'H TV': 1, 'Talking Ben the Dog': 1, 'Sonic Dash': 1, 'Talkatone: Free Texts, Calls & Phone Number': 1, 'Textgram - write on photos': 1, 'Jetpack Joyride': 1, 'Anger of stick 5 : zombie': 1, 'Turbo FAST': 1, 'K PLUS': 1, 'PowerDirector Video Editor App: 4K, Slow Mo & More': 1, 'Fuzzy Numbers: Pre-K Number Foundation': 1, 'LiveMe - Video chat, new friends, and make money': 1, 'letgo: Buy & Sell Used Stuff, Cars & Real Estate': 1, 'Love Balls': 1, 'Last Day on Earth: Survival': 1, 'Minecraft': 1, 'MEGA': 1, 'I’m Expecting - Pregnancy App': 1, 'Diabetes:M': 1, 'PicsArt Photo Studio: Collage Maker & Pic Editor': 1, 'Quora': 1, 'SHAREit - Transfer & Share': 1, 'Topbuzz: Breaking News, Videos & Funny GIFs': 1, 'Twitch: Livestream Multiplayer Games & Esports': 1, 'myAT&T': 1, 'Truecaller: Caller ID, SMS spam blocking & Dialer': 1, 'Showtime Anytime': 1, 'Uber': 1, 'VLC for Android': 1, 'Vigo Video': 1, 'Wattpad 📖 Free Books': 1, 'Waze - GPS, Maps, Traffic Alerts & Live Navigation': 1, 'Dating App, Flirt & Chat : W-Match': 1, 'WPS Office - Word, Docs, PDF, Note, Slide & Sheet': 1, 'LINE WEBTOON - Free Comics': 1, 'WhatsApp Business': 1, 'We Heart It': 1, 'Telegram X': 1, 'Share Music & Transfer Files - Xender': 1, 'Yandex Browser with Protect': 1, 'YouTube Studio': 1, 'PBS KIDS Video': 1, 'YouTube Gaming': 1, 'GO Keyboard - Emoticon keyboard, Free Theme, GIF': 1, 'Zello PTT Walkie Talkie': 1, 'Z Camera - Photo Editor, Beauty Selfie, Collage': 1, 'Six Pack in 30 Days - Abs Workout': 1, 'Angry Birds 2': 1, 'AC - Tips & News for Android™': 1, 'CM Browser - Ad Blocker , Fast Download , Privacy': 1, 'Mobi Calculator free & AD free!': 1, 'Flipp - Weekly Shopping': 1, 'Camera FV-5 Lite': 1, 'All Football - Latest News & Videos': 1, 'Maricopa AH': 1, 'Animal Jam - Play Wild!': 1, 'RULES OF SURVIVAL': 1, 'Amazon for Tablets': 1, 'Final Fantasy XV: A New Empire': 1, 'The Sims™ FreePlay': 1, 'Text free - Free Text + Call': 1, '365Scores - Live Scores': 1, 'DINO HUNTER: DEADLY SHORES': 1, 'AP Mobile - Breaking News': 1, 'Reuters News': 1, 'AccuWeather: Daily Forecast & Live Weather Reports': 1, 'Moovit: Bus Time & Train Time Live Info': 1, 'Jurassic World™ Alive': 1, 'Overstock – Home Decor, Furniture Shopping': 1, 'Choices: Stories You Play': 1, 'Runtastic Sleep Better: Sleep Cycle & Smart Alarm': 1, 'Ringtone Maker': 1, 'Plants vs. Zombies™ Heroes': 1, 'CM FILE MANAGER HD': 1, 'realestate.com.au - Buy, Rent & Sell Property': 1, 'Video Player All Format': 1, 'DEER HUNTER 2018': 1, 'Google Play Games': 1, 'ai.type Free Emoji Keyboard': 1, 'Manga AZ - Manga Comic Reader': 1, 'British Airways': 1, 'Anthem BC Anywhere': 1, 'Transit: Real-Time Transit App': 1, 'PMHNP-BC Pocket Prep': 1, 'Backgrounds HD (Wallpapers)': 1, 'Blur Image Background': 1, 'Newegg Mobile': 1, 'English Dictionary - Offline': 1, 'English Grammar Test': 1, 'Daily Manga - Comic & Webtoon': 1, 'BBM - Free Calls & Messages': 1, 'BeyondMenu Food Delivery': 1, 'NOOK: Read eBooks & Magazines': 1, 'NOOK App for NOOK Devices': 1, 'HBO GO: Stream with TV Package': 1, 'No Crop & Square for Instagram': 1, 'Hungry Shark World': 1, 'iBP Blood Pressure': 1, 'Blood Pressure Log - MyDiary': 1, 'Blood Pressure(BP) Diary': 1, 'BP Journal - Blood Pressure Diary': 1, 'Blood Pressure Monitor': 1, 'Blood Pressure Companion': 1, 'High Blood Pressure Symptoms': 1, 'QR Scanner & Barcode Scanner 2018': 1, 'Camera FV-5': 1, 'Camera MX - Free Photo & Video Camera': 1, 'Cardboard': 1, 'Maps & GPS Navigation — OsmAnd': 1, 'Beautiful Widgets Pro': 1, 'Beautiful Widgets Free': 1, 'HD Widgets': 1, 'Color by Number – New Coloring Book': 1, 'Photo Editor by Aviary': 1, 'UNICORN - Color By Number & Pixel Art Coloring': 1, '420 BZ Budeze Delivery': 1, 'BZWBK24 mobile': 1, 'Zoosk Dating App: Meet Singles': 1, 'Cricbuzz - Live Cricket Scores & News': 1, 'Cheapflights – Flight Search': 1, 'Chrome Beta': 1, 'Chrome Dev': 1, 'CJmall': 1, 'Castle Clash: Heroes of the Empire US': 1, 'CM Launcher 3D - Theme, Wallpapers, Efficient': 1, 'CM Locker - Security Lockscreen': 1, 'CM Flashlight (Compass, SOS)': 1, 'Ruler': 1, 'Cartoon Network App': 1, 'LEGO® TV': 1, 'Brit + Co': 1, 'CT Scan Cross Sectional Anatomy': 1, 'Shadow Fight 2': 1, 'Curriculum vitae App CV Builder Free Resume Maker': 1, 'CW Seed': 1, 'Camera360 Lite - Selfie Camera': 1, 'Mapy.cz - Cycling & Hiking offline maps': 1, 'Face Filter, Selfie Editor - Sweet Camera': 1, 'Metal Soldiers 2': 1, \"COOKING MAMA Let's Cook!\": 1, 'Run Sausage Run!': 1, 'Knife Hit': 1, 'DC Comics': 1, 'MARVEL Contest of Champions': 1, 'wetter.com - Weather and Radar': 1, 'CallApp: Caller ID, Blocker & Phone Call Recorder': 1, 'LINE Camera - Photo editor': 1, 'Racing in Car 2': 1, 'Dungeon Hunter Champions: Epic Online Action RPG': 1, 'Red Bull TV: Live Sports, Music & Entertainment': 1, 'Idle Heroes': 1, 'Free phone calls, free texting SMS on free number': 1, 'Phone Tracker : Family Locator': 1, 'My Photo Keyboard': 1, 'Whoscall - Caller ID & Block': 1, 'Google Sheets': 1, 'Video Downloader': 1, 'Notepad & To do list': 1, 'Polaris Office - Word, Docs, Sheets, Slide, PDF': 1, 'Do It Later: Tasks & To-Dos': 1, 'To-Do Calendar Planner': 1, 'TickTick: To Do List with Reminder, Day Planner': 1, 'ColorNote Notepad Notes': 1, 'Dude Perfect 2': 1, 'Dairy Queen': 1, 'SONIC Drive-In': 1, \"McDonald's\": 1, 'Wendy’s – Food and Offers': 1, \"Dunkin' Donuts\": 1, 'SUBWAY®': 1, 'Panera Bread': 1, 'Starbucks': 1, 'Cache Cleaner-DU Speed Booster (booster & cleaner)': 1, 'DU Browser—Browse fast & fun': 1, 'Real Racing 3': 1, 'My Little Pony Celebration': 1, 'My Little Pony: Harmony Quest': 1, 'The Emirates App': 1, 'Phogy, 3D Camera': 1, 'Weather by eltiempo.es': 1, 'The Game of Life': 1, 'Spanish English Translator': 1, \"Game for KIDS: KIDS match'em\": 1, 'Dictionary - Merriam-Webster': 1, 'Edmodo': 1, 'Chess Free': 1, 'Oxford Dictionary of English : Free': 1, 'Masha and the Bear Child Games': 1, 'Episode - Choose Your Story': 1, 'The NBC App - Watch Live TV and Full Episodes': 1, 'Moto File Manager': 1, 'Moneycontrol – Stocks, Sensex, Mutual Funds, IPO': 1, 'CNBC: Breaking Business News & Live Market Data': 1, 'Google Earth': 1, 'Amino: Communities and Chats': 1, 'Hangouts Dialer - Call Phones': 1, 'Offline Maps & Navigation': 1, 'Strawberry Shortcake Ice Cream Island': 1, 'Home Workout - No Equipment': 1, 'Home Security Camera WardenCam - reuse old phones': 1, 'Web Browser for Android': 1, 'Airway Ex - Intubate. Anesthetize. Train.': 1, 'FilterGrid - Cam&Photo Editor': 1, 'Messages, Text and Video Chat for Messenger': 1, 'All Social Networks': 1, 'Premier League - Official App': 1, 'Fallout Shelter': 1, 'Facebook Pages Manager': 1, 'Facebook Ads Manager': 1, 'Who Viewed My Facebook Profile - Stalkers Visitors': 1, 'The 5th Stand': 1, 'osmino Wi-Fi: free WiFi': 1, 'Fun Kid Racing - Motocross': 1, 'Podcast App: Free & Offline Podcasts by Player FM': 1, 'Motorola FM Radio': 1, 'FarmersOnly Dating': 1, 'FP Notebook': 1, 'AAFP': 1}\n"
     ]
    }
   ],
   "source": [
    "def duplicate(dataset):\n",
    "    unique_app=[]\n",
    "    duplicate_app=[]\n",
    "    for row in dataset:\n",
    "        name=row[0]\n",
    "        if name in unique_app:\n",
    "            duplicate_app.append(name)\n",
    "        else:\n",
    "            unique_app.append(name)\n",
    "    return duplicate_app\n",
    "\n",
    "def list_duplicate(column):\n",
    "    list_dup={}\n",
    "    for value in column:\n",
    "            if value in list_dup:\n",
    "                list_dup[value]+=1\n",
    "            else:\n",
    "                list_dup[value]=1\n",
    "    return print(list_dup)\n",
    "\n",
    "dup_ios=duplicate(ios)\n",
    "print('number of duplicate ios:',len(dup_ios))\n",
    "dup_androi=duplicate(androi)\n",
    "print('number of duplicate ios:',len(dup_androi))\n",
    "list_duplicate(dup_ios)\n",
    "list_duplicate(dup_androi)"
   ]
  },
  {
   "cell_type": "markdown",
   "id": "43f48212",
   "metadata": {},
   "source": [
    "above, frequency of apps has been deducteded 1 from the dataset. Below is example for Instagram app."
   ]
  },
  {
   "cell_type": "code",
   "execution_count": 7,
   "id": "78da1baa",
   "metadata": {},
   "outputs": [
    {
     "name": "stdout",
     "output_type": "stream",
     "text": [
      "['Instagram', 'SOCIAL', '4.5', '66577313', 'Varies with device', '1,000,000,000+', 'Free', '0', 'Teen', 'Social', 'July 31, 2018', 'Varies with device', 'Varies with device']\n",
      "['Instagram', 'SOCIAL', '4.5', '66577446', 'Varies with device', '1,000,000,000+', 'Free', '0', 'Teen', 'Social', 'July 31, 2018', 'Varies with device', 'Varies with device']\n",
      "['Instagram', 'SOCIAL', '4.5', '66577313', 'Varies with device', '1,000,000,000+', 'Free', '0', 'Teen', 'Social', 'July 31, 2018', 'Varies with device', 'Varies with device']\n",
      "['Instagram', 'SOCIAL', '4.5', '66509917', 'Varies with device', '1,000,000,000+', 'Free', '0', 'Teen', 'Social', 'July 31, 2018', 'Varies with device', 'Varies with device']\n"
     ]
    }
   ],
   "source": [
    "for row in androi:\n",
    "    name=row[0]\n",
    "    if name=='Instagram':\n",
    "        print(row)"
   ]
  },
  {
   "cell_type": "markdown",
   "id": "fc0cfc7f",
   "metadata": {},
   "source": [
    "The main difference happens on the fourth position of each row, which corresponds to the number of reviews. The different numbers show the data was collected at different times.\n",
    "We can use this information to build a criterion for removing the duplicates. The higher the number of reviews, the more recent the data should be. Rather than removing duplicates randomly, we'll only keep the row with the highest number of reviews and remove the other entries for any given app."
   ]
  },
  {
   "cell_type": "code",
   "execution_count": 8,
   "id": "02bcb3b8",
   "metadata": {},
   "outputs": [
    {
     "name": "stdout",
     "output_type": "stream",
     "text": [
      "9659\n",
      "9659\n"
     ]
    }
   ],
   "source": [
    "review_max={}\n",
    "for row in androi:\n",
    "    name=row[0]\n",
    "    reviews=float(row[3])\n",
    "    if name in review_max and review_max[name]<reviews:\n",
    "        review_max[name]=reviews\n",
    "    if name not in review_max:\n",
    "        review_max[name]=reviews\n",
    "print(len(review_max))\n",
    "print(len(androi)-1181)                              "
   ]
  },
  {
   "cell_type": "markdown",
   "id": "c6608ed8",
   "metadata": {},
   "source": [
    "Now, let's use the reviews_max dictionary to remove the duplicates. For the duplicate cases, we'll only keep the entries with the highest number of reviews. In the code cell below:"
   ]
  },
  {
   "cell_type": "code",
   "execution_count": 9,
   "id": "2ad3cee3",
   "metadata": {},
   "outputs": [
    {
     "name": "stdout",
     "output_type": "stream",
     "text": [
      "['Photo Editor & Candy Camera & Grid & ScrapBook', 'ART_AND_DESIGN', '4.1', '159', '19M', '10,000+', 'Free', '0', 'Everyone', 'Art & Design', 'January 7, 2018', '1.0.0', '4.0.3 and up']\n",
      "\n",
      "\n",
      "['U Launcher Lite – FREE Live Cool Themes, Hide Apps', 'ART_AND_DESIGN', '4.7', '87510', '8.7M', '5,000,000+', 'Free', '0', 'Everyone', 'Art & Design', 'August 1, 2018', '1.2.4', '4.0.3 and up']\n",
      "\n",
      "\n",
      "number of row: 9659\n",
      "number of column: 13\n"
     ]
    }
   ],
   "source": [
    "clean_androi=[]\n",
    "already_added=[]\n",
    "for row in androi:\n",
    "    name=row[0]\n",
    "    n_reviews=float(row[3])\n",
    "    if (review_max[name]==n_reviews) and (name not in already_added):\n",
    "        clean_androi.append(row)\n",
    "        already_added.append(name)\n",
    "\n",
    "explore_data(clean_androi, 0, 2, True)"
   ]
  },
  {
   "cell_type": "markdown",
   "id": "aa18a3a9",
   "metadata": {},
   "source": [
    "We have 9659 rows, just as expected.\n",
    "## Removing Non-English Apps\n",
    "\n",
    "All these characters that are specific to English texts are encoded using the ASCII standard. Each ASCII character has a corresponding number between 0 and 127 associated with it, and we can take advantage of that to build a function that checks an app name and tells us whether it contains non-ASCII characters.\n",
    "\n",
    "We built this function below, and we use the built-in `ord()` function to find out the corresponding encoding number of each character."
   ]
  },
  {
   "cell_type": "markdown",
   "id": "fa4d5e32",
   "metadata": {},
   "source": [
    "realize that the reduce of apps is quite at big amount for iso from 7,198 to 5,707, about 20% reduction.The function seems to work fine, but some English app names use emojis or other symbols (™, — (em dash), – (en dash), etc.) that fall outside of the ASCII range. Because of this, we'll remove useful apps if we use the function in its current form. To minimize the impact of data loss, we'll only remove an app if its name has more than three non-ASCII characters:"
   ]
  },
  {
   "cell_type": "code",
   "execution_count": 10,
   "id": "b61e5266",
   "metadata": {},
   "outputs": [
    {
     "name": "stdout",
     "output_type": "stream",
     "text": [
      "['Photo Editor & Candy Camera & Grid & ScrapBook', 'ART_AND_DESIGN', '4.1', '159', '19M', '10,000+', 'Free', '0', 'Everyone', 'Art & Design', 'January 7, 2018', '1.0.0', '4.0.3 and up']\n",
      "\n",
      "\n",
      "number of row: 9614\n",
      "number of column: 13\n",
      "\n",
      "\n",
      "['284882215', 'Facebook', '389879808', 'USD', '0.0', '2974676', '212', '3.5', '3.5', '95.0', '4+', 'Social Networking', '37', '1', '29', '1']\n",
      "\n",
      "\n",
      "number of row: 6183\n",
      "number of column: 16\n"
     ]
    }
   ],
   "source": [
    "def is_english(string):\n",
    "    non_ascii = 0\n",
    "    \n",
    "    for character in string:\n",
    "        if ord(character) > 127:\n",
    "            non_ascii += 1\n",
    "    \n",
    "    if non_ascii > 3:\n",
    "        return False\n",
    "    else:\n",
    "        return True\n",
    "\n",
    "androi_english=[]\n",
    "ios_english=[]\n",
    "\n",
    "for row in clean_androi:\n",
    "    name=row[0]\n",
    "    if is_english(name):\n",
    "        androi_english.append(row)\n",
    "\n",
    "\n",
    "for row in ios:\n",
    "    name=row[1]\n",
    "    if is_english(name):\n",
    "        ios_english.append(row)\n",
    "        \n",
    "explore_data(androi_english, 0, 1, True)\n",
    "print('\\n')\n",
    "explore_data(ios_english, 0, 1, True)\n",
    "            "
   ]
  },
  {
   "cell_type": "markdown",
   "id": "286ad626",
   "metadata": {},
   "source": [
    "## Free app\n",
    "\n",
    "Found that price is 'string' and can't covert totally to float ( $4.95 can't convert to float)."
   ]
  },
  {
   "cell_type": "code",
   "execution_count": 11,
   "id": "e5d88d35",
   "metadata": {},
   "outputs": [
    {
     "name": "stdout",
     "output_type": "stream",
     "text": [
      "8864\n",
      "3222\n"
     ]
    }
   ],
   "source": [
    "androi_final = []\n",
    "ios_final = []\n",
    "\n",
    "for app in androi_english:\n",
    "    price = app[7]\n",
    "    if price == '0':\n",
    "        androi_final.append(app)\n",
    "        \n",
    "for app in ios_english:\n",
    "    price = app[4]\n",
    "    if price == '0.0':\n",
    "        ios_final.append(app)\n",
    "        \n",
    "print(len(androi_final))\n",
    "print(len(ios_final))\n",
    "            \n"
   ]
  },
  {
   "cell_type": "markdown",
   "id": "d37fe1bc",
   "metadata": {},
   "source": [
    "## Most Common Apps by Genre"
   ]
  },
  {
   "cell_type": "code",
   "execution_count": 12,
   "id": "cdb017f3",
   "metadata": {},
   "outputs": [],
   "source": [
    "def freq_table(dataset, index):\n",
    "    table = {}\n",
    "    \n",
    "    for row in dataset:\n",
    "        value = row[index]\n",
    "        if value in table:\n",
    "            table[value] += 1\n",
    "        else:\n",
    "            table[value] = 1\n",
    "    \n",
    "    table_percentages = {}\n",
    "    for key in table:\n",
    "        percentage = (table[key] / len(dataset)) * 100\n",
    "        table_percentages[key] = percentage \n",
    "    \n",
    "    return table_percentages\n",
    "\n",
    "\n",
    "def display_table(dataset, index):\n",
    "    table = freq_table(dataset, index)\n",
    "    table_display = []\n",
    "    for key in table:\n",
    "        key_val_as_tuple = (table[key], key)\n",
    "        table_display.append(key_val_as_tuple)\n",
    "        \n",
    "    table_sorted = sorted(table_display, reverse = True)\n",
    "    for entry in table_sorted:\n",
    "        print(entry[1], ':', entry[0])"
   ]
  },
  {
   "cell_type": "code",
   "execution_count": 13,
   "id": "ab46239c",
   "metadata": {
    "scrolled": true
   },
   "outputs": [
    {
     "name": "stdout",
     "output_type": "stream",
     "text": [
      "Games : 58.16263190564867\n",
      "Entertainment : 7.883302296710118\n",
      "Photo & Video : 4.9658597144630665\n",
      "Education : 3.662321539416512\n",
      "Social Networking : 3.2898820608317814\n",
      "Shopping : 2.60707635009311\n",
      "Utilities : 2.5139664804469275\n",
      "Sports : 2.1415270018621975\n",
      "Music : 2.0484171322160147\n",
      "Health & Fitness : 2.0173805090006205\n",
      "Productivity : 1.7380509000620732\n",
      "Lifestyle : 1.5828677839851024\n",
      "News : 1.3345747982619491\n",
      "Travel : 1.2414649286157666\n",
      "Finance : 1.1173184357541899\n",
      "Weather : 0.8690254500310366\n",
      "Food & Drink : 0.8069522036002483\n",
      "Reference : 0.5586592178770949\n",
      "Business : 0.5276225946617008\n",
      "Book : 0.4345127250155183\n",
      "Navigation : 0.186219739292365\n",
      "Medical : 0.186219739292365\n",
      "Catalogs : 0.12414649286157665\n"
     ]
    }
   ],
   "source": [
    "display_table(ios_final, -5)"
   ]
  },
  {
   "cell_type": "markdown",
   "id": "37f9f42f",
   "metadata": {},
   "source": [
    "For IOS, games apps percentage is highest, at 58%, following by entertainment, photo & video. But it doesn't present it has highest number of users."
   ]
  },
  {
   "cell_type": "code",
   "execution_count": 14,
   "id": "bca7dd96",
   "metadata": {},
   "outputs": [
    {
     "name": "stdout",
     "output_type": "stream",
     "text": [
      "Tools : 8.449909747292418\n",
      "Entertainment : 6.069494584837545\n",
      "Education : 5.347472924187725\n",
      "Business : 4.591606498194946\n",
      "Productivity : 3.892148014440433\n",
      "Lifestyle : 3.892148014440433\n",
      "Finance : 3.7003610108303246\n",
      "Medical : 3.531137184115524\n",
      "Sports : 3.463447653429603\n",
      "Personalization : 3.3167870036101084\n",
      "Communication : 3.2378158844765346\n",
      "Action : 3.1024368231046933\n",
      "Health & Fitness : 3.0798736462093865\n",
      "Photography : 2.944494584837545\n",
      "News & Magazines : 2.7978339350180503\n",
      "Social : 2.6624548736462095\n",
      "Travel & Local : 2.3240072202166067\n",
      "Shopping : 2.2450361010830324\n",
      "Books & Reference : 2.1435018050541514\n",
      "Simulation : 2.0419675090252705\n",
      "Dating : 1.861462093862816\n",
      "Arcade : 1.8501805054151623\n",
      "Video Players & Editors : 1.7712093862815883\n",
      "Casual : 1.7599277978339352\n",
      "Maps & Navigation : 1.3989169675090252\n",
      "Food & Drink : 1.2409747292418771\n",
      "Puzzle : 1.128158844765343\n",
      "Racing : 0.9927797833935018\n",
      "Role Playing : 0.9363718411552346\n",
      "Libraries & Demo : 0.9363718411552346\n",
      "Auto & Vehicles : 0.9250902527075812\n",
      "Strategy : 0.9138086642599278\n",
      "House & Home : 0.8235559566787004\n",
      "Weather : 0.8009927797833934\n",
      "Events : 0.7107400722021661\n",
      "Adventure : 0.6768953068592057\n",
      "Comics : 0.6092057761732852\n",
      "Beauty : 0.5979241877256317\n",
      "Art & Design : 0.5979241877256317\n",
      "Parenting : 0.4963898916967509\n",
      "Card : 0.45126353790613716\n",
      "Casino : 0.42870036101083037\n",
      "Trivia : 0.41741877256317694\n",
      "Educational;Education : 0.39485559566787\n",
      "Board : 0.3835740072202166\n",
      "Educational : 0.3722924187725632\n",
      "Education;Education : 0.33844765342960287\n",
      "Word : 0.2594765342960289\n",
      "Casual;Pretend Play : 0.236913357400722\n",
      "Music : 0.2030685920577617\n",
      "Racing;Action & Adventure : 0.16922382671480143\n",
      "Puzzle;Brain Games : 0.16922382671480143\n",
      "Entertainment;Music & Video : 0.16922382671480143\n",
      "Casual;Brain Games : 0.13537906137184114\n",
      "Casual;Action & Adventure : 0.13537906137184114\n",
      "Arcade;Action & Adventure : 0.12409747292418773\n",
      "Action;Action & Adventure : 0.10153429602888085\n",
      "Educational;Pretend Play : 0.09025270758122744\n",
      "Simulation;Action & Adventure : 0.078971119133574\n",
      "Parenting;Education : 0.078971119133574\n",
      "Entertainment;Brain Games : 0.078971119133574\n",
      "Board;Brain Games : 0.078971119133574\n",
      "Parenting;Music & Video : 0.06768953068592057\n",
      "Educational;Brain Games : 0.06768953068592057\n",
      "Casual;Creativity : 0.06768953068592057\n",
      "Art & Design;Creativity : 0.06768953068592057\n",
      "Education;Pretend Play : 0.056407942238267145\n",
      "Role Playing;Pretend Play : 0.04512635379061372\n",
      "Education;Creativity : 0.04512635379061372\n",
      "Role Playing;Action & Adventure : 0.033844765342960284\n",
      "Puzzle;Action & Adventure : 0.033844765342960284\n",
      "Entertainment;Creativity : 0.033844765342960284\n",
      "Entertainment;Action & Adventure : 0.033844765342960284\n",
      "Educational;Creativity : 0.033844765342960284\n",
      "Educational;Action & Adventure : 0.033844765342960284\n",
      "Education;Music & Video : 0.033844765342960284\n",
      "Education;Brain Games : 0.033844765342960284\n",
      "Education;Action & Adventure : 0.033844765342960284\n",
      "Adventure;Action & Adventure : 0.033844765342960284\n",
      "Video Players & Editors;Music & Video : 0.02256317689530686\n",
      "Sports;Action & Adventure : 0.02256317689530686\n",
      "Simulation;Pretend Play : 0.02256317689530686\n",
      "Puzzle;Creativity : 0.02256317689530686\n",
      "Music;Music & Video : 0.02256317689530686\n",
      "Entertainment;Pretend Play : 0.02256317689530686\n",
      "Casual;Education : 0.02256317689530686\n",
      "Board;Action & Adventure : 0.02256317689530686\n",
      "Video Players & Editors;Creativity : 0.01128158844765343\n",
      "Trivia;Education : 0.01128158844765343\n",
      "Travel & Local;Action & Adventure : 0.01128158844765343\n",
      "Tools;Education : 0.01128158844765343\n",
      "Strategy;Education : 0.01128158844765343\n",
      "Strategy;Creativity : 0.01128158844765343\n",
      "Strategy;Action & Adventure : 0.01128158844765343\n",
      "Simulation;Education : 0.01128158844765343\n",
      "Role Playing;Brain Games : 0.01128158844765343\n",
      "Racing;Pretend Play : 0.01128158844765343\n",
      "Puzzle;Education : 0.01128158844765343\n",
      "Parenting;Brain Games : 0.01128158844765343\n",
      "Music & Audio;Music & Video : 0.01128158844765343\n",
      "Lifestyle;Pretend Play : 0.01128158844765343\n",
      "Lifestyle;Education : 0.01128158844765343\n",
      "Health & Fitness;Education : 0.01128158844765343\n",
      "Health & Fitness;Action & Adventure : 0.01128158844765343\n",
      "Entertainment;Education : 0.01128158844765343\n",
      "Communication;Creativity : 0.01128158844765343\n",
      "Comics;Creativity : 0.01128158844765343\n",
      "Casual;Music & Video : 0.01128158844765343\n",
      "Card;Action & Adventure : 0.01128158844765343\n",
      "Books & Reference;Education : 0.01128158844765343\n",
      "Art & Design;Pretend Play : 0.01128158844765343\n",
      "Art & Design;Action & Adventure : 0.01128158844765343\n",
      "Arcade;Pretend Play : 0.01128158844765343\n",
      "Adventure;Education : 0.01128158844765343\n"
     ]
    }
   ],
   "source": [
    "display_table(androi_final, -4)"
   ]
  },
  {
   "cell_type": "markdown",
   "id": "4d8cd01a",
   "metadata": {},
   "source": [
    "For androi, tools and entertainment is at highest rate at about 8.5% and 6% correspondingly. but there are more catergories in androi comparing to ios. for example, regarding to games,there are 8 different catergories games."
   ]
  },
  {
   "cell_type": "markdown",
   "id": "42aeda2d",
   "metadata": {},
   "source": [
    "## Most Popular Apps by Genre\n",
    "### IOS"
   ]
  },
  {
   "cell_type": "code",
   "execution_count": 15,
   "id": "26c5de7a",
   "metadata": {},
   "outputs": [
    {
     "name": "stdout",
     "output_type": "stream",
     "text": [
      "Social Networking : 71548.38009322698\n",
      "Photo & Video : 28441.57478662322\n",
      "Games : 22788.70072712482\n",
      "Music : 57326.56133965352\n",
      "Reference : 74942.14214773432\n",
      "Health & Fitness : 23298.0464212386\n",
      "Weather : 52279.92389376607\n",
      "Utilities : 18684.487826746674\n",
      "Travel : 28243.831036623218\n",
      "Shopping : 26919.721512813692\n",
      "News : 21248.05429243717\n",
      "Navigation : 86090.36436995656\n",
      "Lifestyle : 16485.79574250557\n",
      "Entertainment : 14029.861745284632\n",
      "Food & Drink : 33333.95411354629\n",
      "Sports : 23008.92958734785\n",
      "Book : 39758.531036623215\n",
      "Finance : 31467.97548106766\n",
      "Education : 7004.014087470672\n",
      "Productivity : 21028.44175090893\n",
      "Business : 7491.148683682039\n",
      "Catalogs : 4004.031036623215\n",
      "Medical : 612.0310366232153\n"
     ]
    }
   ],
   "source": [
    "def genre_view(dataset, review_index, genre_index):\n",
    "    genre_ios=freq_table(dataset, genre_index)\n",
    "    for key in genre_ios:\n",
    "        total=0\n",
    "        for row in dataset:\n",
    "            n_review=float(row[review_index])\n",
    "            genre=row[genre_index]\n",
    "            if genre==key:\n",
    "                total+=1\n",
    "                genre_ios[key]+=n_review\n",
    "        avg_n_ratings=genre_ios[key]/total\n",
    "        print(key, ':', avg_n_ratings)\n",
    "\n",
    "genre_view(ios_final,5,-5)"
   ]
  },
  {
   "cell_type": "markdown",
   "id": "60ee507a",
   "metadata": {},
   "source": [
    "Genre: navigation, reference and social networking have the highest viewers in average"
   ]
  },
  {
   "cell_type": "code",
   "execution_count": 16,
   "id": "4b251ac6",
   "metadata": {
    "scrolled": true
   },
   "outputs": [
    {
     "name": "stdout",
     "output_type": "stream",
     "text": [
      "Waze - GPS Navigation, Maps & Real-time Traffic : 345046\n",
      "Google Maps - Navigation & Transit : 154911\n",
      "Geocaching® : 12811\n",
      "CoPilot GPS – Car Navigation & Offline Maps : 3582\n",
      "ImmobilienScout24: Real Estate Search in Germany : 187\n",
      "Railway Route Search : 5\n"
     ]
    }
   ],
   "source": [
    "for app in ios_final:\n",
    "    if app[-5] == 'Navigation':\n",
    "        print(app[1], ':', app[5]) # print name and number of ratings"
   ]
  },
  {
   "cell_type": "markdown",
   "id": "fdbe599e",
   "metadata": {},
   "source": [
    "On average, navigation apps have the highest number of user reviews, but this figure is heavily influenced by Waze and Google Maps, which have close to half a million user reviews together"
   ]
  },
  {
   "cell_type": "code",
   "execution_count": 17,
   "id": "99633896",
   "metadata": {},
   "outputs": [
    {
     "name": "stdout",
     "output_type": "stream",
     "text": [
      "Bible : 985920\n",
      "Dictionary.com Dictionary & Thesaurus : 200047\n",
      "Dictionary.com Dictionary & Thesaurus for iPad : 54175\n",
      "Google Translate : 26786\n",
      "Muslim Pro: Ramadan 2017 Prayer Times, Azan, Quran : 18418\n",
      "New Furniture Mods - Pocket Wiki & Game Tools for Minecraft PC Edition : 17588\n",
      "Merriam-Webster Dictionary : 16849\n",
      "Night Sky : 12122\n",
      "City Maps for Minecraft PE - The Best Maps for Minecraft Pocket Edition (MCPE) : 8535\n",
      "LUCKY BLOCK MOD ™ for Minecraft PC Edition - The Best Pocket Wiki & Mods Installer Tools : 4693\n",
      "GUNS MODS for Minecraft PC Edition - Mods Tools : 1497\n",
      "Guides for Pokémon GO - Pokemon GO News and Cheats : 826\n",
      "WWDC : 762\n",
      "Horror Maps for Minecraft PE - Download The Scariest Maps for Minecraft Pocket Edition (MCPE) Free : 718\n",
      "VPN Express : 14\n",
      "Real Bike Traffic Rider Virtual Reality Glasses : 8\n",
      "教えて!goo : 0\n",
      "Jishokun-Japanese English Dictionary & Translator : 0\n"
     ]
    }
   ],
   "source": [
    "for app in ios_final:\n",
    "    if app[-5] == 'Reference':\n",
    "        print(app[1], ':', app[5])"
   ]
  },
  {
   "cell_type": "markdown",
   "id": "55a9da39",
   "metadata": {},
   "source": [
    "### Android"
   ]
  },
  {
   "cell_type": "code",
   "execution_count": 18,
   "id": "221be1b7",
   "metadata": {
    "scrolled": false
   },
   "outputs": [
    {
     "name": "stdout",
     "output_type": "stream",
     "text": [
      "Art & Design : 26119.12448913562\n",
      "Art & Design;Creativity : 5677.844614921781\n",
      "Auto & Vehicles : 14140.291769393325\n",
      "Beauty : 7476.237696682787\n",
      "Books & Reference : 87995.07970264107\n",
      "Business : 24239.738554315718\n",
      "Comics : 43364.696466773625\n",
      "Comics;Creativity : 516.0112815884477\n",
      "Communication : 995608.4746962225\n",
      "Dating : 21953.284008861174\n",
      "Education : 16211.395247833174\n",
      "Education;Creativity : 6384.261281588448\n",
      "Education;Education : 234564.87794825513\n",
      "Education;Pretend Play : 25151.411281588447\n",
      "Education;Brain Games : 192591.01128158843\n",
      "Entertainment : 103389.25849348436\n",
      "Entertainment;Brain Games : 79104.29699587416\n",
      "Entertainment;Creativity : 143559.34461492178\n",
      "Entertainment;Music & Video : 79679.54461492179\n",
      "Events : 2555.852551429717\n",
      "Finance : 38535.910671832346\n",
      "Food & Drink : 57478.80219067935\n",
      "Health & Fitness : 78094.98197755913\n",
      "House & Home : 26435.477035013104\n",
      "Libraries & Demo : 10925.81851050411\n",
      "Lifestyle : 33611.47794825512\n",
      "Lifestyle;Pretend Play : 140995.01128158843\n",
      "Card : 166334.98628158844\n",
      "Arcade : 708829.8466474421\n",
      "Puzzle : 215662.57128158846\n",
      "Racing : 597997.1703724975\n",
      "Sports : 213438.3956464093\n",
      "Casual : 837706.0176918448\n",
      "Simulation : 142850.2322760636\n",
      "Adventure : 302214.94461492175\n",
      "Trivia : 193939.578849156\n",
      "Action : 544975.6330997703\n",
      "Word : 228272.0547598493\n",
      "Role Playing : 249256.84260688964\n",
      "Strategy : 1251841.8260964034\n",
      "Board : 121552.95245805904\n",
      "Music : 216456.4557260329\n",
      "Action;Action & Adventure : 128986.12239269956\n",
      "Casual;Brain Games : 10477.011281588448\n",
      "Educational;Creativity : 14829.011281588448\n",
      "Puzzle;Brain Games : 157446.01128158846\n",
      "Educational;Education : 12010.23985301702\n",
      "Casual;Pretend Play : 105424.82080539798\n",
      "Educational;Brain Games : 20885.34461492178\n",
      "Art & Design;Pretend Play : 974.0112815884477\n",
      "Educational;Pretend Play : 214720.13628158843\n",
      "Entertainment;Education : 7320.011281588448\n",
      "Casual;Education : 13817.511281588448\n",
      "Casual;Creativity : 88508.84461492178\n",
      "Casual;Action & Adventure : 942726.4279482551\n",
      "Music;Music & Video : 25474.011281588446\n",
      "Arcade;Pretend Play : 23671.011281588446\n",
      "Adventure;Action & Adventure : 1513269.0112815883\n",
      "Role Playing;Action & Adventure : 322308.3446149218\n",
      "Simulation;Pretend Play : 37664.51128158845\n",
      "Puzzle;Creativity : 38619.51128158845\n",
      "Simulation;Action & Adventure : 175951.8684244456\n",
      "Racing;Action & Adventure : 203194.87794825513\n",
      "Sports;Action & Adventure : 730014.0112815885\n",
      "Educational;Action & Adventure : 225802.3446149218\n",
      "Arcade;Action & Adventure : 100802.5567361339\n",
      "Entertainment;Action & Adventure : 45750.01128158844\n",
      "Art & Design;Action & Adventure : 65.01128158844766\n",
      "Puzzle;Action & Adventure : 533895.3446149217\n",
      "Education;Action & Adventure : 5176.344614921781\n",
      "Strategy;Action & Adventure : 19170.011281588446\n",
      "Music & Audio;Music & Video : 1369.0112815884477\n",
      "Health & Fitness;Education : 9856.011281588448\n",
      "Board;Action & Adventure : 37283.01128158845\n",
      "Board;Brain Games : 2249.154138731305\n",
      "Casual;Music & Video : 38021.01128158845\n",
      "Education;Music & Video : 14945.34461492178\n",
      "Role Playing;Pretend Play : 55798.01128158845\n",
      "Entertainment;Pretend Play : 53655.01128158845\n",
      "Medical : 3730.164636221036\n",
      "Social : 965830.998569724\n",
      "Shopping : 223887.3580152568\n",
      "Photography : 404081.3867605156\n",
      "Travel & Local : 130108.68118450107\n",
      "Travel & Local;Action & Adventure : 890.0112815884477\n",
      "Tools : 305684.0393189716\n",
      "Tools;Education : 342336.01128158846\n",
      "Personalization : 181122.32760811906\n",
      "Productivity : 160634.55331057397\n",
      "Parenting : 20562.602190679358\n",
      "Parenting;Music & Video : 4371.344614921781\n",
      "Parenting;Education : 2195.582710159876\n",
      "Parenting;Brain Games : 3614.0112815884477\n",
      "Weather : 171250.78592947577\n",
      "Video Players & Editors : 428992.61637712986\n",
      "Video Players & Editors;Music & Video : 79490.51128158845\n",
      "Video Players & Editors;Creativity : 159622.01128158843\n",
      "News & Magazines : 93088.04353965296\n",
      "Maps & Navigation : 142860.05966868522\n",
      "Health & Fitness;Action & Adventure : 31061.011281588446\n",
      "Educational : 7073.647645224812\n",
      "Casino : 134314.5902289569\n",
      "Trivia;Education : 8.011281588447654\n",
      "Lifestyle;Education : 3146.0112815884477\n",
      "Card;Action & Adventure : 920571.0112815885\n",
      "Books & Reference;Education : 42.01128158844765\n",
      "Simulation;Education : 16.011281588447652\n",
      "Puzzle;Education : 834.0112815884477\n",
      "Adventure;Education : 288606.01128158846\n",
      "Role Playing;Brain Games : 151374.01128158843\n",
      "Strategy;Education : 2062.0112815884477\n",
      "Racing;Pretend Play : 2200.0112815884477\n",
      "Communication;Creativity : 3478.0112815884477\n",
      "Strategy;Creativity : 129542.01128158845\n"
     ]
    }
   ],
   "source": [
    "genre_view(androi_final,3,-4)"
   ]
  },
  {
   "cell_type": "markdown",
   "id": "4bd61ac0",
   "metadata": {},
   "source": [
    "communication has the highest the viewer"
   ]
  },
  {
   "cell_type": "code",
   "execution_count": 19,
   "id": "50bf5672",
   "metadata": {},
   "outputs": [
    {
     "name": "stdout",
     "output_type": "stream",
     "text": [
      "WhatsApp Messenger : 69119316\n",
      "Messenger for SMS : 125257\n",
      "My Tele2 : 158679\n",
      "imo beta free calls and text : 659395\n",
      "Contacts : 66602\n",
      "Call Free – Free Call : 30209\n",
      "Web Browser & Explorer : 36901\n",
      "Browser 4G : 192948\n",
      "MegaFon Dashboard : 99559\n",
      "ZenUI Dialer & Contacts : 437674\n",
      "Cricket Visual Voicemail : 13698\n",
      "TracFone My Account : 20769\n",
      "Xperia Link™ : 45487\n",
      "TouchPal Keyboard - Fun Emoji & Android Keyboard : 615381\n",
      "Skype Lite - Free Video Call & Chat : 33053\n",
      "My magenta : 42370\n",
      "Android Messages : 781810\n",
      "Google Duo - High Quality Video Calls : 2083237\n",
      "Seznam.cz : 46702\n",
      "Antillean Gold Telegram (original version) : 2939\n",
      "AT&T Visual Voicemail : 13761\n",
      "GMX Mail : 258556\n",
      "Omlet Chat : 40751\n",
      "My Vodacom SA : 25021\n",
      "Microsoft Edge : 27187\n",
      "Messenger – Text and Video Chat for Free : 56646578\n",
      "imo free video calls and chat : 4785988\n",
      "Calls & Text by Mo+ : 83239\n",
      "free video calls and chat : 594728\n",
      "Skype - free IM & video calls : 10484169\n",
      "Who : 2451093\n",
      "GO SMS Pro - Messenger, Free Themes, Emoji : 2876500\n",
      "Messaging+ SMS, MMS Free : 28238\n",
      "chomp SMS : 335646\n",
      "Glide - Video Chat Messenger : 350154\n",
      "Text SMS : 349384\n",
      "Talkray - Free Calls & Texts : 244863\n",
      "LINE: Free Calls & Messages : 10790289\n",
      "GroupMe : 330761\n",
      "mysms SMS Text Messaging Sync : 37320\n",
      "2ndLine - Second Phone Number : 15880\n",
      "Google Chrome: Fast & Secure : 9643041\n",
      "Firefox Browser fast & private : 3075118\n",
      "Ninesky Browser : 42925\n",
      "Dolphin Browser - Fast, Private & Adblock🐬 : 2511130\n",
      "UC Browser - Fast Download Private & Secure : 17714850\n",
      "Ghostery Privacy Browser : 13100\n",
      "InBrowser - Incognito Browsing : 27156\n",
      "Lightning Web Browser : 12578\n",
      "Web Browser : 10965\n",
      "Contacts+ : 190613\n",
      "ExDialer - Dialer & Contacts : 125232\n",
      "PHONE for Google Voice & GTalk : 72065\n",
      "Safest Call Blocker : 27540\n",
      "Full Screen Caller ID : 104990\n",
      "Hiya - Caller ID & Block : 177703\n",
      "Mr. Number-Block calls & spam : 177263\n",
      "Should I Answer? : 237468\n",
      "RocketDial Dialer & Contacts : 32254\n",
      "CIA - Caller ID & Call Blocker : 60308\n",
      "Calls Blacklist - Call Blocker : 457283\n",
      "Call Control - Call Blocker : 93825\n",
      "True Contact - Real Caller ID : 32283\n",
      "Video Caller Id : 15287\n",
      "Sync.ME – Caller ID & Block : 205739\n",
      "Burner - Free Phone Number : 14873\n",
      "Caller ID + : 9498\n",
      "Gmail : 4604483\n",
      "K-9 Mail : 88427\n",
      "myMail – Email for Hotmail, Gmail and Outlook Mail : 305218\n",
      "Email TypeApp - Mail App : 183374\n",
      "All Email Providers : 20901\n",
      "Newton Mail - Email App for Gmail, Outlook, IMAP : 122595\n",
      "GO Notifier : 124346\n",
      "Mail.Ru - Email App : 837842\n",
      "Mail1Click - Secure Mail : 255\n",
      "Daum Mail - Next Mail : 41420\n",
      "mail.com mail : 44706\n",
      "SolMail - All-in-One email app : 23707\n",
      "Hangouts : 3419513\n",
      "Vonage Mobile® Call Video Text : 29208\n",
      "JusTalk - Free Video Calls and Fun Video Chat : 191032\n",
      "Azar : 1092337\n",
      "LokLok: Draw on a Lock Screen : 14766\n",
      "Discord - Chat for Gamers : 305347\n",
      "Messenger Lite: Free Calls & Messages : 1429038\n",
      "AntennaPict β : 15439\n",
      "Talkatone: Free Texts, Calls & Phone Number : 132015\n",
      "Kik : 2451136\n",
      "K-@ Mail - Email App : 1760\n",
      "KakaoTalk: Free Calls & Text : 2546549\n",
      "K-9 Material (unofficial) : 64\n",
      "M star Dialer : 400\n",
      "Free WiFi Connect : 167229\n",
      "m:go BiH : 559\n",
      "N-Com Wizard : 960\n",
      "Opera Mini - fast web browser : 5150801\n",
      "Opera Browser: Fast and Secure : 2473795\n",
      "Opera Mini browser beta : 401530\n",
      "Psiphon Pro - The Internet Freedom VPN : 298041\n",
      "ICQ — Video Calls & Chat Messenger : 697939\n",
      "Telegram : 3128611\n",
      "AT&T Messages for Tablet : 3044\n",
      "T-Mobile DIGITS : 1820\n",
      "Truecaller: Caller ID, SMS spam blocking & Dialer : 7820775\n",
      "Portable Wi-Fi hotspot : 138129\n",
      "AT&T Call Protect : 6454\n",
      "U - Webinars, Meetings & Messenger : 6601\n",
      "UC Browser Mini -Tiny Fast Private & Secure : 3648765\n",
      "/u/app : 573\n",
      "[verify-U] VideoIdent : 83\n",
      "Viber Messenger : 11335481\n",
      "WeChat : 5387631\n",
      "WhatsApp Business : 137144\n",
      "WhatsCall Free Global Phone Call App & Cheap Calls : 1130966\n",
      "X Browser : 142\n",
      "Yahoo Mail – Stay Organized : 4188345\n",
      "Free Adblocker Browser - Adblock & Popup Blocker : 152470\n",
      "Adblock Browser for Android : 121113\n",
      "CM Browser - Ad Blocker , Fast Download , Privacy : 2265084\n",
      "Adblock Plus for Samsung Internet - Browse safe. : 8769\n",
      "Ad Blocker Turbo - Adblocker Browser : 107\n",
      "Brave Browser: Fast AdBlocker : 40241\n",
      "AG Contacts, Lite edition : 185\n",
      "Oklahoma Ag Co-op Council : 0\n",
      "Bee'ah Employee App : 4\n",
      "tournaments and more.aj.2 : 0\n",
      "Aj.Petra : 5\n",
      "AK Phone : 9\n",
      "PlacarTv Futebol Ao Vivo : 2063\n",
      "WiFi Access Point (hotspot) : 684\n",
      "Access Point Names : 138\n",
      "Puffin Web Browser : 541661\n",
      "ClanHQ : 560\n",
      "Ear Agent: Super Hearing : 42329\n",
      "Google Voice : 171052\n",
      "Google Allo : 347086\n",
      "AU Call Blocker - Block Unwanted Calls Texts 2018 : 16\n",
      "Baby Monitor AV : 1434\n",
      "AV Phone : 4\n",
      "AW - free video calls and chat : 7317\n",
      "Katalogen.ax : 1\n",
      "AZ Browser. Private & Download : 1520\n",
      "BA SALES : 0\n",
      "BD Data Plan (3G & 4G) : 10341\n",
      "BD Internet Packages (Updated) : 474\n",
      "BD Dialer : 29\n",
      "BD Live Call : 7\n",
      "Best Browser BD social networking : 6\n",
      "Traffic signs BD : 7\n",
      "BF Browser by Betfilter - Stop Gambling Today! : 39\n",
      "My BF App : 141\n",
      "BH Mail : 7\n",
      "Zalo – Video Call : 1042170\n",
      "BJ - Confidential : 0\n",
      "BK Chat : 6\n",
      "Of the wall Arapaho bk : 0\n",
      "AC-BL : 0\n",
      "BBM - Free Calls & Messages : 12843436\n",
      "DMR BrandMeister Tool : 78\n",
      "BBMoji - Your personalized BBM Stickers : 8827\n",
      "BN MALLORCA Radio : 23\n",
      "BQ Partners : 0\n",
      "BS-Mobile : 1\n",
      "ATC Unico BS : 10\n",
      "BT One Voice mobile access : 32\n",
      "BT Messenger : 97\n",
      "BT One Phone Mobile App : 33\n",
      "SW-100.tch by Callstel : 1926\n",
      "BT MeetMe with Dolby Voice : 437\n",
      "Bluetooth Auto Connect : 20829\n",
      "AudioBT: BT audio GPS/SMS/Text : 198\n",
      "BV : 3\n",
      "Feel Performer : 62\n",
      "Tiny Call Confirm : 22782\n",
      "CB Radio Chat - for friends! : 17998\n",
      "CB On Mobile : 901\n",
      "Virtual Walkie Talkie : 21785\n",
      "Channel 19 : 916\n",
      "Cb browser : 5\n",
      "CF Chat: Connecting Friends : 5\n",
      "retteMi.ch : 31\n",
      "Chrome Dev : 63576\n",
      "CJ Browser - Fast & Private : 5\n",
      "CJ DVD Rentals : 5\n",
      "CK Call NEW : 0\n",
      "CM Transfer - Share any files with friends nearby : 71740\n",
      "mail.co.uk Mail : 21\n",
      "ClanPlay: Community and Tools for Gamers : 34443\n",
      "CQ-Mobile : 10\n",
      "CQ-Alert : 3\n",
      "QRZ Assistant : 1044\n",
      "Pocket Prefix Plus : 192\n",
      "Ham Radio Prefixes : 218\n",
      "CS Customizer : 25\n",
      "CS Browser | #1 & BEST BROWSER : 52\n",
      "CS Browser Beta : 125\n",
      "My Vodafone (GR) : 12667\n",
      "IZ2UUF Morse Koch CW : 649\n",
      "C W Browser : 14\n",
      "CW Bluetooth SPP : 3\n",
      "CW BLE Peripheral Simulator : 2\n",
      "Morse Code Reader : 1436\n",
      "Learn Morse Code - G0HYN Learn Morse : 27\n",
      "Ring : 517\n",
      "Hyundai CX Conference : 0\n",
      "Cy Messenger : 4\n",
      "Amadeus GR & CY : 4\n",
      "Hlášenírozhlasu.cz : 0\n",
      "SMS Sender - sluzba.cz : 12\n",
      "WEB.DE Mail : 226541\n",
      "Your Freedom VPN Client : 74497\n",
      "CallApp: Caller ID, Blocker & Phone Call Recorder : 483782\n",
      "Rádio Sol Nascente DF : 12\n",
      "DG Card : 0\n",
      "Whoscall - Caller ID & Block : 552635\n",
      "DK Browser : 1\n",
      "cluster.dk : 49\n",
      "DK TEL Dialer : 0\n",
      "DM for WhatsApp : 25\n",
      "DM Talk New : 3\n",
      "DM - The Offical Messaging App : 0\n",
      "DM Tracker : 11\n",
      "Call Blocker & Blacklist : 6\n",
      "ReadyOp DT : 8\n",
      "DU Browser—Browse fast & fun : 1133539\n",
      "Caller ID & Call Block - DU Caller : 93930\n",
      "BlueDV AMBE : 0\n",
      "DW Contacts & Phone & Dialer : 21186\n",
      "Deaf World DW : 298\n",
      "Ham DX Cluster & Spots Finder : 115\n",
      "Mircules DX Cluster Lite : 51\n",
      "3G DZ Configuration : 488\n",
      "chat dz : 8\n",
      "love sms good morning : 10\n",
      "Goodbox - Mega App : 3429\n",
      "Call Blocker - Blacklist, SMS Blocker : 30350\n",
      "[EF]ShoutBox : 3\n",
      "Eg Call : 91\n",
      "ei : 2\n",
      "EJ messenger : 1\n",
      "Ek IRA : 0\n",
      "Orfox: Tor Browser for Android : 44233\n",
      "EO Mumbai : 0\n",
      "EP RSS Reader : 4\n",
      "Voxer Walkie Talkie Messenger : 230564\n",
      "ES-1 : 6\n",
      "Hangouts Dialer - Call Phones : 122512\n",
      "EU Council : 7\n",
      "Council Voting Calculator : 33\n",
      "Have your say on Europe : 19\n",
      "Programi podrške EU : 0\n",
      "Inbox.eu : 98\n",
      "Web Browser for Android : 55110\n",
      "Everbridge : 497\n",
      "Best Auto Call Recorder Free : 7\n",
      "EZ Wifi Notification : 260\n",
      "Test Server SMS FA : 0\n",
      "Lite for Facebook Messenger : 76498\n",
      "FC Browser - Focus Privacy Browser : 26\n",
      "EHiN-FH conferenceapp : 5\n",
      "Carpooling FH Hagenberg : 0\n",
      "Wi-Fi Auto-connect : 15036\n",
      "Talkie - Wi-Fi Calling, Chats, File Sharing : 4838\n",
      "WeFi - Free Fast WiFi Connect & Find Wi-Fi Map : 13469\n",
      "Sat-Fi : 97\n",
      "Portable Wi-Fi hotspot Free : 1711\n",
      "TownWiFi | Wi-Fi Everywhere : 2372\n",
      "Jazz Wi-Fi : 49\n",
      "Sat-Fi Voice : 37\n",
      "Free Wi-fi HotspoT : 382\n",
      "FN Web Radio : 0\n",
      "FNH Payment Info : 0\n",
      "MARKET FO : 0\n",
      "FO OP St-Nazaire : 1\n",
      "FO SODEXO : 0\n",
      "FO RCBT : 5\n",
      "FO Interim : 1\n",
      "FO PSA Sept-Fons : 2\n",
      "FO AIRBUS TLSE : 4\n",
      "FO STELIA Méaulte : 2\n",
      "FO AIRBUS Nantes : 0\n",
      "Firefox Focus: The privacy browser : 36981\n",
      "FP Connect : 0\n",
      "FreedomPop Messaging Phone/SIM : 9894\n",
      "FP Live : 0\n",
      "HipChat - beta version : 1035\n"
     ]
    }
   ],
   "source": [
    "for app in androi_final:\n",
    "    if app[-4] == 'Communication':\n",
    "        print(app[0], ':', app[3])"
   ]
  },
  {
   "cell_type": "markdown",
   "id": "2f639da7",
   "metadata": {},
   "source": [
    "## Conclusion:\n",
    "* for IOS app, navigation, reference and social networking have the highest viewers in average.\n",
    "* for Andoid, commnucation has the higest viewers\n",
    "* there is not clear genre catagories in Androi, to really find the most popular genre and it frequency.\n",
    "* While social networking and commnucation are in highest viewers rates but their app quantity is low. The compnay can take time to invest deeper in this area"
   ]
  }
 ],
 "metadata": {
  "kernelspec": {
   "display_name": "Python 3 (ipykernel)",
   "language": "python",
   "name": "python3"
  },
  "language_info": {
   "codemirror_mode": {
    "name": "ipython",
    "version": 3
   },
   "file_extension": ".py",
   "mimetype": "text/x-python",
   "name": "python",
   "nbconvert_exporter": "python",
   "pygments_lexer": "ipython3",
   "version": "3.9.7"
  }
 },
 "nbformat": 4,
 "nbformat_minor": 5
}
